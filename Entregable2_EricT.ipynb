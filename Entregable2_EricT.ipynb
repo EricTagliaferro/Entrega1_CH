{
 "cells": [
  {
   "cell_type": "code",
   "execution_count": 20,
   "id": "0c8a0a47-e86f-4c65-90ac-c7318459e212",
   "metadata": {
    "tags": []
   },
   "outputs": [],
   "source": [
    "import pandas as pd\n",
    "import requests\n",
    "import os\n",
    "import psycopg2\n",
    "#import numpy as np"
   ]
  },
  {
   "cell_type": "code",
   "execution_count": 21,
   "id": "bae9e5ff-cd7d-43e1-ac7f-8c40666c1112",
   "metadata": {
    "tags": []
   },
   "outputs": [],
   "source": [
    "#Estadisticas de NBA\n",
    "test_url = \"https://stats.nba.com/stats/leagueLeaders?LeagueID=00&PerMode=PerGame&Scope=S&Season=2022-23&SeasonType=Playoffs&StatCategory=PTS\"\n",
    "r =requests.get(url=test_url).json()\n"
   ]
  },
  {
   "cell_type": "code",
   "execution_count": 22,
   "id": "eb3652ed-8583-468e-8a0c-9612154a62a5",
   "metadata": {
    "tags": []
   },
   "outputs": [],
   "source": [
    "#Dar formatoa a la informacion obtenida\n",
    "Columnas = r['resultSet'][\"headers\"]\n",
    "Tabla = pd.DataFrame(r['resultSet'][\"rowSet\"],columns=Columnas)\n"
   ]
  },
  {
   "cell_type": "code",
   "execution_count": 23,
   "id": "7569efe4-27ea-4c1e-9dea-748d82fd19b3",
   "metadata": {
    "tags": []
   },
   "outputs": [
    {
     "data": {
      "text/plain": [
       "PLAYER\n",
       "Devin Booker          1\n",
       "Anthony Edwards       1\n",
       "Davion Mitchell       1\n",
       "Obi Toppin            1\n",
       "Gary Payton II        1\n",
       "                     ..\n",
       "Bogdan Bogdanovic     1\n",
       "Michael Porter Jr.    1\n",
       "D'Angelo Russell      1\n",
       "Aaron Gordon          1\n",
       "Kessler Edwards       1\n",
       "Name: count, Length: 144, dtype: int64"
      ]
     },
     "execution_count": 23,
     "metadata": {},
     "output_type": "execute_result"
    }
   ],
   "source": [
    "#Hago chequeo de que no haya jugadores duplicados en la tabla\n",
    "Tabla['PLAYER'].value_counts()"
   ]
  },
  {
   "cell_type": "code",
   "execution_count": 24,
   "id": "9abdd18d-4ace-42f2-9bb8-bfc7acc0bd3f",
   "metadata": {
    "tags": []
   },
   "outputs": [
    {
     "data": {
      "text/plain": [
       "PLAYER\n",
       "Devin Booker          1\n",
       "Anthony Edwards       1\n",
       "Davion Mitchell       1\n",
       "Obi Toppin            1\n",
       "Gary Payton II        1\n",
       "                     ..\n",
       "Bogdan Bogdanovic     1\n",
       "Michael Porter Jr.    1\n",
       "D'Angelo Russell      1\n",
       "Aaron Gordon          1\n",
       "Kessler Edwards       1\n",
       "Name: count, Length: 144, dtype: int64"
      ]
     },
     "execution_count": 24,
     "metadata": {},
     "output_type": "execute_result"
    }
   ],
   "source": [
    "Tabla['PLAYER'].value_counts()"
   ]
  },
  {
   "cell_type": "code",
   "execution_count": 25,
   "id": "f087c6bd-7903-4d94-8105-caa334573e06",
   "metadata": {
    "tags": []
   },
   "outputs": [
    {
     "data": {
      "text/plain": [
       "PLAYER\n",
       "Devin Booker          1\n",
       "Anthony Edwards       1\n",
       "Davion Mitchell       1\n",
       "Obi Toppin            1\n",
       "Gary Payton II        1\n",
       "                     ..\n",
       "Bogdan Bogdanovic     1\n",
       "Michael Porter Jr.    1\n",
       "D'Angelo Russell      1\n",
       "Aaron Gordon          1\n",
       "Kessler Edwards       1\n",
       "Name: count, Length: 144, dtype: int64"
      ]
     },
     "execution_count": 25,
     "metadata": {},
     "output_type": "execute_result"
    }
   ],
   "source": [
    "TablacheckC = Tabla\n",
    "TablacheckC['PLAYER'].drop_duplicates(inplace=True)\n",
    "TablacheckC['PLAYER'].value_counts()"
   ]
  },
  {
   "cell_type": "code",
   "execution_count": 26,
   "id": "00d97b87-3048-4185-aee3-a49a1f565eee",
   "metadata": {
    "tags": []
   },
   "outputs": [],
   "source": [
    "#Genero 2 variables nuevas, saco apostrofes de los nombres para que no genere conflicto y selecciono los primeros 20 registros\n",
    "\n",
    "Tabla['TEAM_PLAYERS'] = Tabla.groupby(['TEAM'])['TEAM'].transform('count')\n",
    "Tabla['SUM_GP_TEAM'] = Tabla.groupby(['TEAM'])['GP'].transform('sum')\n",
    "Tabla2 = Tabla.applymap(lambda x: x.replace(\"'\", \"\") if (isinstance(x, str)) else x)\n",
    "Tablaresumen = Tabla2[['PLAYER_ID', 'RANK','PLAYER', 'TEAM_ID', 'TEAM', 'GP', 'REB', 'AST', 'STL', 'BLK','TEAM_PLAYERS','SUM_GP_TEAM']]\n",
    "Top20 = Tablaresumen[Tablaresumen[\"RANK\"]<20]"
   ]
  },
  {
   "cell_type": "code",
   "execution_count": 27,
   "id": "0a356fef-a20b-42dd-80a6-a54597525752",
   "metadata": {
    "tags": []
   },
   "outputs": [
    {
     "data": {
      "text/html": [
       "<div>\n",
       "<style scoped>\n",
       "    .dataframe tbody tr th:only-of-type {\n",
       "        vertical-align: middle;\n",
       "    }\n",
       "\n",
       "    .dataframe tbody tr th {\n",
       "        vertical-align: top;\n",
       "    }\n",
       "\n",
       "    .dataframe thead th {\n",
       "        text-align: right;\n",
       "    }\n",
       "</style>\n",
       "<table border=\"1\" class=\"dataframe\">\n",
       "  <thead>\n",
       "    <tr style=\"text-align: right;\">\n",
       "      <th></th>\n",
       "      <th>PLAYER_ID</th>\n",
       "      <th>RANK</th>\n",
       "      <th>PLAYER</th>\n",
       "      <th>TEAM_ID</th>\n",
       "      <th>TEAM</th>\n",
       "      <th>GP</th>\n",
       "      <th>REB</th>\n",
       "      <th>AST</th>\n",
       "      <th>STL</th>\n",
       "      <th>BLK</th>\n",
       "      <th>TEAM_PLAYERS</th>\n",
       "      <th>SUM_GP_TEAM</th>\n",
       "    </tr>\n",
       "  </thead>\n",
       "  <tbody>\n",
       "    <tr>\n",
       "      <th>0</th>\n",
       "      <td>1626164</td>\n",
       "      <td>1</td>\n",
       "      <td>Devin Booker</td>\n",
       "      <td>1610612756</td>\n",
       "      <td>PHX</td>\n",
       "      <td>11</td>\n",
       "      <td>4.8</td>\n",
       "      <td>7.2</td>\n",
       "      <td>1.7</td>\n",
       "      <td>0.8</td>\n",
       "      <td>8</td>\n",
       "      <td>79</td>\n",
       "    </tr>\n",
       "    <tr>\n",
       "      <th>1</th>\n",
       "      <td>1630162</td>\n",
       "      <td>2</td>\n",
       "      <td>Anthony Edwards</td>\n",
       "      <td>1610612750</td>\n",
       "      <td>MIN</td>\n",
       "      <td>5</td>\n",
       "      <td>5.0</td>\n",
       "      <td>5.2</td>\n",
       "      <td>1.8</td>\n",
       "      <td>2.0</td>\n",
       "      <td>9</td>\n",
       "      <td>43</td>\n",
       "    </tr>\n",
       "    <tr>\n",
       "      <th>2</th>\n",
       "      <td>203999</td>\n",
       "      <td>3</td>\n",
       "      <td>Nikola Jokic</td>\n",
       "      <td>1610612743</td>\n",
       "      <td>DEN</td>\n",
       "      <td>18</td>\n",
       "      <td>13.4</td>\n",
       "      <td>10.1</td>\n",
       "      <td>1.0</td>\n",
       "      <td>0.9</td>\n",
       "      <td>8</td>\n",
       "      <td>143</td>\n",
       "    </tr>\n",
       "    <tr>\n",
       "      <th>3</th>\n",
       "      <td>201939</td>\n",
       "      <td>4</td>\n",
       "      <td>Stephen Curry</td>\n",
       "      <td>1610612744</td>\n",
       "      <td>GSW</td>\n",
       "      <td>13</td>\n",
       "      <td>5.2</td>\n",
       "      <td>6.1</td>\n",
       "      <td>1.0</td>\n",
       "      <td>0.5</td>\n",
       "      <td>10</td>\n",
       "      <td>124</td>\n",
       "    </tr>\n",
       "    <tr>\n",
       "      <th>4</th>\n",
       "      <td>1629027</td>\n",
       "      <td>5</td>\n",
       "      <td>Trae Young</td>\n",
       "      <td>1610612737</td>\n",
       "      <td>ATL</td>\n",
       "      <td>6</td>\n",
       "      <td>3.7</td>\n",
       "      <td>10.2</td>\n",
       "      <td>1.7</td>\n",
       "      <td>0.7</td>\n",
       "      <td>9</td>\n",
       "      <td>53</td>\n",
       "    </tr>\n",
       "  </tbody>\n",
       "</table>\n",
       "</div>"
      ],
      "text/plain": [
       "   PLAYER_ID  RANK           PLAYER     TEAM_ID TEAM  GP   REB   AST  STL   \n",
       "0    1626164     1     Devin Booker  1610612756  PHX  11   4.8   7.2  1.7  \\\n",
       "1    1630162     2  Anthony Edwards  1610612750  MIN   5   5.0   5.2  1.8   \n",
       "2     203999     3     Nikola Jokic  1610612743  DEN  18  13.4  10.1  1.0   \n",
       "3     201939     4    Stephen Curry  1610612744  GSW  13   5.2   6.1  1.0   \n",
       "4    1629027     5       Trae Young  1610612737  ATL   6   3.7  10.2  1.7   \n",
       "\n",
       "   BLK  TEAM_PLAYERS  SUM_GP_TEAM  \n",
       "0  0.8             8           79  \n",
       "1  2.0             9           43  \n",
       "2  0.9             8          143  \n",
       "3  0.5            10          124  \n",
       "4  0.7             9           53  "
      ]
     },
     "execution_count": 27,
     "metadata": {},
     "output_type": "execute_result"
    }
   ],
   "source": [
    "Top20.head()"
   ]
  },
  {
   "cell_type": "code",
   "execution_count": 41,
   "id": "91a56050-ffb6-4b26-91d5-f9ec97e07b26",
   "metadata": {
    "tags": []
   },
   "outputs": [],
   "source": [
    "from pyspark.sql import SparkSession\n",
    "#from pyspark.sql.functions import when, lit, col\n",
    "\n",
    "# Postgres and Redshift JDBCs\n",
    "driver_path = \"/home/coder/working_dir/driver_jdbc/postgresql-42.2.27.jre7.jar\"\n",
    "\n",
    "os.environ['PYSPARK_SUBMIT_ARGS'] = f'--driver-class-path {driver_path} --jars {driver_path} pyspark-shell'\n",
    "os.environ['SPARK_CLASSPATH'] = driver_path\n",
    "\n",
    "# Create SparkSession \n",
    "spark = SparkSession.builder \\\n",
    "        .master(\"local\") \\\n",
    "        .appName(\"Conexion entre Pyspark y Redshift\") \\\n",
    "        .config(\"spark.jars\", driver_path) \\\n",
    "        .config(\"spark.executor.extraClassPath\", driver_path) \\\n",
    "        .getOrCreate()"
   ]
  },
  {
   "cell_type": "code",
   "execution_count": 42,
   "id": "bdf1ceb9-82b6-418b-802e-f9823b8dd2dd",
   "metadata": {
    "tags": []
   },
   "outputs": [
    {
     "name": "stdout",
     "output_type": "stream",
     "text": [
      "root\n",
      " |-- PLAYER_ID: long (nullable = true)\n",
      " |-- RANK: long (nullable = true)\n",
      " |-- PLAYER: string (nullable = true)\n",
      " |-- TEAM_ID: long (nullable = true)\n",
      " |-- TEAM: string (nullable = true)\n",
      " |-- GP: long (nullable = true)\n",
      " |-- REB: double (nullable = true)\n",
      " |-- AST: double (nullable = true)\n",
      " |-- STL: double (nullable = true)\n",
      " |-- BLK: double (nullable = true)\n",
      " |-- TEAM_PLAYERS: long (nullable = true)\n",
      " |-- SUM_GP_TEAM: long (nullable = true)\n",
      "\n",
      "+---------+----+-----------------+----------+----+---+----+----+---+---+------------+-----------+\n",
      "|PLAYER_ID|RANK|           PLAYER|   TEAM_ID|TEAM| GP| REB| AST|STL|BLK|TEAM_PLAYERS|SUM_GP_TEAM|\n",
      "+---------+----+-----------------+----------+----+---+----+----+---+---+------------+-----------+\n",
      "|  1626164|   1|     Devin Booker|1610612756| PHX| 11| 4.8| 7.2|1.7|0.8|           8|         79|\n",
      "|  1630162|   2|  Anthony Edwards|1610612750| MIN|  5| 5.0| 5.2|1.8|2.0|           9|         43|\n",
      "|   203999|   3|     Nikola Jokic|1610612743| DEN| 18|13.4|10.1|1.0|0.9|           8|        143|\n",
      "|   201939|   4|    Stephen Curry|1610612744| GSW| 13| 5.2| 6.1|1.0|0.5|          10|        124|\n",
      "|  1629027|   5|       Trae Young|1610612737| ATL|  6| 3.7|10.2|1.7|0.7|           9|         53|\n",
      "|   201142|   6|     Kevin Durant|1610612756| PHX| 11| 8.7| 5.5|0.8|1.4|           8|         79|\n",
      "|  1628973|   7|    Jalen Brunson|1610612752| NYK| 11| 4.9| 5.6|1.5|0.1|          10|        101|\n",
      "|  1628368|   8|      DeAaron Fox|1610612758| SAC|  7| 5.4| 7.7|2.1|0.6|          10|         69|\n",
      "|  1627750|   9|     Jamal Murray|1610612743| DEN| 18| 5.7| 6.8|1.6|0.3|           8|        143|\n",
      "|   202710|  10|     Jimmy Butler|1610612748| MIA| 20| 6.6| 5.9|1.8|0.7|          10|        198|\n",
      "|  1628369|  11|     Jayson Tatum|1610612738| BOS| 20|10.5| 5.3|1.1|1.1|           9|        169|\n",
      "|  1629630|  12|        Ja Morant|1610612763| MEM|  5| 6.8| 7.0|1.8|0.2|          10|         57|\n",
      "|     2544|  13|     LeBron James|1610612747| LAL| 16| 9.9| 6.5|1.1|1.1|           9|        136|\n",
      "|   203114|  14|  Khris Middleton|1610612749| MIL|  5| 6.4| 6.2|0.6|0.0|           9|         42|\n",
      "|   203954|  15|      Joel Embiid|1610612755| PHI|  9| 9.8| 2.7|0.7|2.8|           9|         94|\n",
      "|   201566|  16|Russell Westbrook|1610612746| LAC|  5| 7.6| 7.4|1.2|1.4|           8|         40|\n",
      "|  1630217|  17|     Desmond Bane|1610612763| MEM|  6| 6.0| 3.2|0.5|0.0|          10|         57|\n",
      "|  1628969|  17|    Mikal Bridges|1610612751| BKN|  4| 5.3| 4.0|0.5|0.5|           8|         31|\n",
      "|  1628378|  19| Donovan Mitchell|1610612739| CLE|  5| 5.0| 7.2|2.0|0.6|           8|         39|\n",
      "+---------+----+-----------------+----------+----+---+----+----+---+---+------------+-----------+\n",
      "\n"
     ]
    }
   ],
   "source": [
    "sparkDF=spark.createDataFrame(Top20) \n",
    "sparkDF.printSchema()\n",
    "sparkDF.show()"
   ]
  },
  {
   "cell_type": "code",
   "execution_count": 43,
   "id": "43710098-b9b1-4ed8-839c-fa338081be0a",
   "metadata": {
    "tags": []
   },
   "outputs": [],
   "source": [
    "env = os.environ"
   ]
  },
  {
   "cell_type": "code",
   "execution_count": 45,
   "id": "a06a8d36-f05b-4d1d-bf0c-7195939f9952",
   "metadata": {
    "tags": []
   },
   "outputs": [],
   "source": [
    "conn = psycopg2.connect(\n",
    "    host=env['AWS_REDSHIFT_HOST'],\n",
    "    port=env['AWS_REDSHIFT_PORT'],\n",
    "    dbname=env['AWS_REDSHIFT_DBNAME'],\n",
    "    user=env['AWS_REDSHIFT_USER'],\n",
    "    password=env['AWS_REDSHIFT_PASSWORD']\n",
    ")"
   ]
  },
  {
   "cell_type": "code",
   "execution_count": 46,
   "id": "343a80c4-ffa1-40bc-8433-7089556030f0",
   "metadata": {
    "tags": []
   },
   "outputs": [
    {
     "name": "stdout",
     "output_type": "stream",
     "text": [
      "Table created!\n"
     ]
    }
   ],
   "source": [
    "cursor = conn.cursor()\n",
    "cursor.execute(f\"\"\"\n",
    "create table if not exists {env['AWS_REDSHIFT_SCHEMA']}.NBAstat2 (\n",
    "    PLAYER_ID float distkey, \n",
    "    RANK float, PLAYER varchar,\n",
    "    TEAM_ID float ,\n",
    "    TEAM varchar,\n",
    "    GP float,\n",
    "    REB float,\n",
    "    AST float,\n",
    "    STL float,\n",
    "    BLK float,\n",
    "    TEAM_PLAYERS float,\n",
    "     SUM_GP_TEAM float\n",
    "    ) sortkey(TEAM);\n",
    "\"\"\")\n",
    "conn.commit()\n",
    "cursor.close()\n",
    "print(\"Table created!\")"
   ]
  },
  {
   "cell_type": "code",
   "execution_count": 47,
   "id": "adb81a49-041d-46fc-a91b-b1547ee39718",
   "metadata": {
    "tags": []
   },
   "outputs": [],
   "source": [
    "sparkDF.write \\\n",
    "    .format(\"jdbc\") \\\n",
    "    .option(\"url\", f\"jdbc:postgresql://{env['AWS_REDSHIFT_HOST']}:{env['AWS_REDSHIFT_PORT']}/{env['AWS_REDSHIFT_DBNAME']}\") \\\n",
    "    .option(\"dbtable\", f\"{env['AWS_REDSHIFT_SCHEMA']}.NBAstat2\") \\\n",
    "    .option(\"user\", env['AWS_REDSHIFT_USER']) \\\n",
    "    .option(\"password\", env['AWS_REDSHIFT_PASSWORD']) \\\n",
    "    .option(\"driver\", \"org.postgresql.Driver\") \\\n",
    "    .mode(\"overwrite\") \\\n",
    "    .save()"
   ]
  }
 ],
 "metadata": {
  "kernelspec": {
   "display_name": "Python 3 (ipykernel)",
   "language": "python",
   "name": "python3"
  },
  "language_info": {
   "codemirror_mode": {
    "name": "ipython",
    "version": 3
   },
   "file_extension": ".py",
   "mimetype": "text/x-python",
   "name": "python",
   "nbconvert_exporter": "python",
   "pygments_lexer": "ipython3",
   "version": "3.10.10"
  }
 },
 "nbformat": 4,
 "nbformat_minor": 5
}
