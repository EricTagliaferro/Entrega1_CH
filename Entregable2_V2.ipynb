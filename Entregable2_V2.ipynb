{
 "cells": [
  {
   "cell_type": "code",
   "execution_count": 47,
   "id": "0c8a0a47-e86f-4c65-90ac-c7318459e212",
   "metadata": {
    "tags": []
   },
   "outputs": [],
   "source": [
    "import requests\n",
    "import os\n",
    "import psycopg2"
   ]
  },
  {
   "cell_type": "code",
   "execution_count": 48,
   "id": "bae9e5ff-cd7d-43e1-ac7f-8c40666c1112",
   "metadata": {
    "tags": []
   },
   "outputs": [],
   "source": [
    "#Estadisticas de NBA\n",
    "test_url = \"https://stats.nba.com/stats/leagueLeaders?LeagueID=00&PerMode=PerGame&Scope=S&Season=2022-23&SeasonType=Playoffs&StatCategory=PTS\"\n",
    "r =requests.get(url=test_url).json()\n"
   ]
  },
  {
   "cell_type": "code",
   "execution_count": 49,
   "id": "0fa2baa2-c27b-463e-b28c-9e6d020645ea",
   "metadata": {
    "tags": []
   },
   "outputs": [],
   "source": [
    "from pyspark.sql import SparkSession\n",
    "#from pyspark.sql.functions import when, lit, col\n",
    "\n",
    "# Postgres and Redshift JDBCs\n",
    "driver_path = \"/home/coder/working_dir/driver_jdbc/postgresql-42.2.27.jre7.jar\"\n",
    "\n",
    "os.environ['PYSPARK_SUBMIT_ARGS'] = f'--driver-class-path {driver_path} --jars {driver_path} pyspark-shell'\n",
    "os.environ['SPARK_CLASSPATH'] = driver_path\n",
    "\n",
    "# Create SparkSession \n",
    "spark = SparkSession.builder \\\n",
    "        .master(\"local\") \\\n",
    "        .appName(\"Conexion entre Pyspark y Redshift\") \\\n",
    "        .config(\"spark.jars\", driver_path) \\\n",
    "        .config(\"spark.executor.extraClassPath\", driver_path) \\\n",
    "        .getOrCreate()"
   ]
  },
  {
   "cell_type": "code",
   "execution_count": 50,
   "id": "e4d166cc-bb4c-4745-9d1e-43336dbc8165",
   "metadata": {
    "tags": []
   },
   "outputs": [],
   "source": [
    "#Dar formato a la informacion obtenida\n",
    "Columnas = r['resultSet'][\"headers\"]\n",
    "Tabla = spark.createDataFrame(data = r['resultSet'][\"rowSet\"],schema=Columnas) "
   ]
  },
  {
   "cell_type": "code",
   "execution_count": 51,
   "id": "a14c8417-dc5f-4a24-994c-46c94f30be9c",
   "metadata": {
    "collapsed": true,
    "jupyter": {
     "outputs_hidden": true
    },
    "tags": []
   },
   "outputs": [
    {
     "name": "stdout",
     "output_type": "stream",
     "text": [
      "root\n",
      " |-- PLAYER_ID: long (nullable = true)\n",
      " |-- RANK: long (nullable = true)\n",
      " |-- PLAYER: string (nullable = true)\n",
      " |-- TEAM_ID: long (nullable = true)\n",
      " |-- TEAM: string (nullable = true)\n",
      " |-- GP: long (nullable = true)\n",
      " |-- MIN: double (nullable = true)\n",
      " |-- FGM: double (nullable = true)\n",
      " |-- FGA: double (nullable = true)\n",
      " |-- FG_PCT: double (nullable = true)\n",
      " |-- FG3M: double (nullable = true)\n",
      " |-- FG3A: double (nullable = true)\n",
      " |-- FG3_PCT: double (nullable = true)\n",
      " |-- FTM: double (nullable = true)\n",
      " |-- FTA: double (nullable = true)\n",
      " |-- FT_PCT: double (nullable = true)\n",
      " |-- OREB: double (nullable = true)\n",
      " |-- DREB: double (nullable = true)\n",
      " |-- REB: double (nullable = true)\n",
      " |-- AST: double (nullable = true)\n",
      " |-- STL: double (nullable = true)\n",
      " |-- BLK: double (nullable = true)\n",
      " |-- TOV: double (nullable = true)\n",
      " |-- PTS: double (nullable = true)\n",
      " |-- EFF: double (nullable = true)\n",
      "\n",
      "+---------+----+-----------------+----------+----+---+----+----+----+------+----+----+-------+---+---+------+----+----+----+----+---+---+---+----+----+\n",
      "|PLAYER_ID|RANK|           PLAYER|   TEAM_ID|TEAM| GP| MIN| FGM| FGA|FG_PCT|FG3M|FG3A|FG3_PCT|FTM|FTA|FT_PCT|OREB|DREB| REB| AST|STL|BLK|TOV| PTS| EFF|\n",
      "+---------+----+-----------------+----------+----+---+----+----+----+------+----+----+-------+---+---+------+----+----+----+----+---+---+---+----+----+\n",
      "|  1626164|   1|     Devin Booker|1610612756| PHX| 11|41.7|12.8|21.9| 0.585| 2.8| 5.5|  0.508|5.3|6.1| 0.866| 1.1| 3.7| 4.8| 7.2|1.7|0.8|2.9|33.7|35.5|\n",
      "|  1630162|   2|  Anthony Edwards|1610612750| MIN|  5|39.8|11.0|22.8| 0.482| 3.0| 8.6|  0.349|6.6|7.8| 0.846| 0.6| 4.4| 5.0| 5.2|1.8|2.0|1.6|31.6|31.0|\n",
      "|   201939|   3|    Stephen Curry|1610612744| GSW| 13|37.9|11.2|23.9| 0.466| 4.4|12.1|  0.363|3.8|4.5| 0.845| 0.7| 4.5| 5.2| 6.1|1.0|0.5|3.2|30.5|26.5|\n",
      "|   203999|   4|     Nikola Jokic|1610612743| DEN| 20|39.5|11.4|20.7| 0.548| 1.8| 3.8|  0.461|5.6|7.0| 0.799| 3.5|10.0|13.5| 9.5|1.1|1.0|3.5|30.0|40.8|\n",
      "|  1629027|   5|       Trae Young|1610612737| ATL|  6|38.3|10.0|24.8| 0.403| 3.0| 9.0|  0.333|6.2|7.2|  0.86| 0.8| 2.8| 3.7|10.2|1.7|0.7|4.0|29.2|25.5|\n",
      "|   201142|   6|     Kevin Durant|1610612756| PHX| 11|42.4| 9.7|20.4| 0.478| 1.5| 4.6|  0.333|8.0|8.7| 0.917| 0.6| 8.1| 8.7| 5.5|0.8|1.4|3.5|29.0|30.5|\n",
      "|  1628973|   7|    Jalen Brunson|1610612752| NYK| 11|40.3| 9.9|20.9| 0.474| 2.4| 7.3|  0.325|5.6|6.2| 0.912| 0.8| 4.1| 4.9| 5.6|1.5|0.1|2.1|27.8|26.3|\n",
      "|  1628368|   8|     De'Aaron Fox|1610612758| SAC|  7|38.6|10.0|23.6| 0.424| 3.0| 9.0|  0.333|4.4|5.9| 0.756| 1.7| 3.7| 5.4| 7.7|2.1|0.6|4.0|27.4|24.3|\n",
      "|  1628369|   9|     Jayson Tatum|1610612738| BOS| 20|40.0| 9.3|20.2| 0.458| 2.7| 8.2|  0.323|6.0|6.9| 0.876| 1.3| 9.2|10.5| 5.3|1.1|1.1|2.8|27.2|30.4|\n",
      "|   202710|  10|     Jimmy Butler|1610612748| MIA| 22|39.7| 9.4|20.1| 0.468| 1.3| 3.5|  0.359|6.8|8.5| 0.806| 2.1| 4.3| 6.5| 5.9|1.8|0.6|1.9|26.9|27.5|\n",
      "|  1627750|  11|     Jamal Murray|1610612743| DEN| 20|40.0| 9.7|20.5| 0.473| 3.0| 7.5|  0.396|3.8|4.1| 0.926| 0.8| 4.9| 5.7| 7.1|1.5|0.3|2.5|26.1|27.0|\n",
      "|  1629630|  12|        Ja Morant|1610612763| MEM|  5|37.4| 9.0|21.2| 0.425| 2.6| 6.2|  0.419|4.0|5.2| 0.769| 1.6| 5.2| 6.8| 7.0|1.8|0.2|3.4|24.6|23.6|\n",
      "|     2544|  13|     LeBron James|1610612747| LAL| 16|38.7| 9.2|18.4| 0.498| 1.8| 6.6|  0.264|4.4|5.8| 0.761| 1.6| 8.3| 9.9| 6.5|1.1|1.1|2.5|24.5|29.9|\n",
      "|   203114|  14|  Khris Middleton|1610612749| MIL|  5|34.6| 8.0|17.2| 0.465| 2.6| 6.4|  0.406|5.2|6.0| 0.867| 1.4| 5.0| 6.4| 6.2|0.6|0.0|3.4|23.8|23.6|\n",
      "|   203954|  15|      Joel Embiid|1610612755| PHI|  9|37.3| 7.3|17.0| 0.431| 0.6| 3.1|  0.179|8.4|9.3| 0.905| 1.8| 8.0| 9.8| 2.7|0.7|2.8|3.9|23.7|25.1|\n",
      "|   201566|  16|Russell Westbrook|1610612746| LAC|  5|38.4| 8.6|21.0|  0.41| 2.0| 5.6|  0.357|4.4|5.0|  0.88| 1.8| 5.8| 7.6| 7.4|1.2|1.4|4.0|23.6|24.2|\n",
      "|  1630217|  17|     Desmond Bane|1610612763| MEM|  6|38.5| 8.2|19.3| 0.422| 2.7| 8.3|   0.32|4.5|4.8| 0.931| 1.2| 4.8| 6.0| 3.2|0.5|0.0|2.8|23.5|18.8|\n",
      "|  1628969|  17|    Mikal Bridges|1610612751| BKN|  4|39.3| 8.3|19.3| 0.429| 2.5| 6.3|    0.4|4.5|5.8| 0.783| 0.5| 4.8| 5.3| 4.0|0.5|0.5|2.0|23.5|19.5|\n",
      "|  1628378|  19| Donovan Mitchell|1610612739| CLE|  5|41.4| 9.0|20.8| 0.433| 2.6| 9.0|  0.289|2.6|3.6| 0.722| 0.6| 4.4| 5.0| 7.2|2.0|0.6|3.8|23.2|21.4|\n",
      "|  1627749|  20|  Dejounte Murray|1610612737| ATL|  5|38.0| 9.2|20.6| 0.447| 2.8| 7.4|  0.378|1.8|1.8|   1.0| 1.8| 5.4| 7.2| 6.8|2.0|0.2|2.0|23.0|25.8|\n",
      "+---------+----+-----------------+----------+----+---+----+----+----+------+----+----+-------+---+---+------+----+----+----+----+---+---+---+----+----+\n",
      "only showing top 20 rows\n",
      "\n"
     ]
    }
   ],
   "source": [
    "Tabla.printSchema()\n",
    "Tabla.show()"
   ]
  },
  {
   "cell_type": "code",
   "execution_count": 52,
   "id": "7569efe4-27ea-4c1e-9dea-748d82fd19b3",
   "metadata": {},
   "outputs": [
    {
     "data": {
      "text/plain": [
       "144"
      ]
     },
     "execution_count": 52,
     "metadata": {},
     "output_type": "execute_result"
    }
   ],
   "source": [
    "#Hago chequeo de que no haya jugadores duplicados en la tabla\n",
    "Tabla.count()"
   ]
  },
  {
   "cell_type": "code",
   "execution_count": 53,
   "id": "f087c6bd-7903-4d94-8105-caa334573e06",
   "metadata": {},
   "outputs": [
    {
     "data": {
      "text/plain": [
       "144"
      ]
     },
     "execution_count": 53,
     "metadata": {},
     "output_type": "execute_result"
    }
   ],
   "source": [
    "TablacheckC = Tabla\n",
    "TablacheckC.dropDuplicates(['PLAYER'])\n",
    "TablacheckC.count()"
   ]
  },
  {
   "cell_type": "code",
   "execution_count": 54,
   "id": "46e14016-2b8a-4064-9927-73b396cad35c",
   "metadata": {
    "collapsed": true,
    "jupyter": {
     "outputs_hidden": true
    },
    "tags": []
   },
   "outputs": [
    {
     "name": "stdout",
     "output_type": "stream",
     "text": [
      "+---------+----+-------------------+----------+----+---+----+----+----+------+----+----+-------+---+---+------+----+----+----+----+---+---+---+----+----+------------+-----------+\n",
      "|PLAYER_ID|RANK|             PLAYER|   TEAM_ID|TEAM| GP| MIN| FGM| FGA|FG_PCT|FG3M|FG3A|FG3_PCT|FTM|FTA|FT_PCT|OREB|DREB| REB| AST|STL|BLK|TOV| PTS| EFF|TEAM_PLAYERS|SUM_GP_TEAM|\n",
      "+---------+----+-------------------+----------+----+---+----+----+----+------+----+----+-------+---+---+------+----+----+----+----+---+---+---+----+----+------------+-----------+\n",
      "|  1629027|   5|         Trae Young|1610612737| ATL|  6|38.3|10.0|24.8| 0.403| 3.0| 9.0|  0.333|6.2|7.2|  0.86| 0.8| 2.8| 3.7|10.2|1.7|0.7|4.0|29.2|25.5|           9|         53|\n",
      "|  1627749|  20|    Dejounte Murray|1610612737| ATL|  5|38.0| 9.2|20.6| 0.447| 2.8| 7.4|  0.378|1.8|1.8|   1.0| 1.8| 5.4| 7.2| 6.8|2.0|0.2|2.0|23.0|25.8|           9|         53|\n",
      "|  1629631|  38|    De'Andre Hunter|1610612737| ATL|  6|37.3| 6.5|14.2| 0.459| 2.3| 6.3|  0.368|1.3|1.7|   0.8| 1.2| 4.5| 5.7| 1.2|0.7|0.3|1.5|16.7|15.0|           9|         53|\n",
      "|   203992|  49|  Bogdan Bogdanovic|1610612737| ATL|  6|26.2| 5.0| 9.0| 0.556| 2.5| 5.5|  0.455|0.8|1.2| 0.714| 0.3| 2.7| 3.0| 2.5|1.0|0.8|0.5|13.3|15.8|           9|         53|\n",
      "|  1628381|  60|       John Collins|1610612737| ATL|  6|27.3| 4.3|10.0| 0.433| 1.8| 5.3|  0.344|0.8|1.0| 0.833| 1.2| 3.2| 4.3| 0.8|0.3|1.0|1.5|11.3|10.5|           9|         53|\n",
      "|   203991|  84|       Clint Capela|1610612737| ATL|  6|25.2| 3.8| 6.3| 0.605| 0.0| 0.0|    0.0|0.7|1.0| 0.667| 2.5| 5.8| 8.3| 0.5|1.0|0.5|0.7| 8.3|15.2|           9|         53|\n",
      "|  1630180|  90|         Saddiq Bey|1610612737| ATL|  6|22.2| 2.5| 6.7| 0.375| 1.2| 3.0|  0.389|1.3|1.5| 0.889| 1.2| 2.8| 4.0| 1.0|0.5|0.0|0.3| 7.5| 8.3|           9|         53|\n",
      "|  1630168| 107|     Onyeka Okongwu|1610612737| ATL|  6|21.8| 2.5| 4.2|   0.6| 0.2| 0.2|    1.0|0.8|1.7|   0.5| 3.2| 3.2| 6.3| 1.2|0.3|1.3|1.2| 6.0|11.5|           9|         53|\n",
      "|  1630552| 121|      Jalen Johnson|1610612737| ATL|  6| 9.3| 1.7| 4.0| 0.417| 0.7| 1.8|  0.364|0.3|0.3|   1.0| 0.3| 2.2| 2.5| 1.3|0.5|0.0|0.8| 4.3| 5.5|           9|         53|\n",
      "|  1628969|  17|      Mikal Bridges|1610612751| BKN|  4|39.3| 8.3|19.3| 0.429| 2.5| 6.3|    0.4|4.5|5.8| 0.783| 0.5| 4.8| 5.3| 4.0|0.5|0.5|2.0|23.5|19.5|           8|         31|\n",
      "|  1629661|  31|    Cameron Johnson|1610612751| BKN|  4|38.0| 7.0|13.8| 0.509| 3.0| 7.0|  0.429|1.5|1.8| 0.857| 0.8| 5.0| 5.8| 2.8|0.8|0.3|1.3|18.5|19.8|           8|         31|\n",
      "|   203915|  40|  Spencer Dinwiddie|1610612751| BKN|  4|39.8| 5.5|12.8| 0.431| 1.8| 4.5|  0.389|3.8|5.5| 0.682| 0.3| 3.0| 3.3| 6.5|1.3|0.3|3.0|16.5|15.8|           8|         31|\n",
      "|  1629651|  64|        Nic Claxton|1610612751| BKN|  4|29.3| 4.5| 6.3|  0.72| 0.0| 0.0|    0.0|1.5|2.5|   0.6| 1.3| 6.8| 8.0| 1.5|0.3|1.8|0.8|10.5|18.5|           8|         31|\n",
      "|   203552|  84|         Seth Curry|1610612751| BKN|  3|19.3| 3.3| 6.3| 0.526| 1.0| 3.0|  0.333|0.7|1.0| 0.667| 0.0| 1.0| 1.0| 2.0|0.0|0.0|0.3| 8.3| 7.7|           8|         31|\n",
      "|  1627827| 105|Dorian Finney-Smith|1610612751| BKN|  4|25.3| 2.3| 5.8| 0.391| 1.8| 4.3|  0.412|0.0|0.0|   0.0| 1.5| 3.0| 4.5| 0.8|0.8|0.5|1.3| 6.3| 8.0|           8|         31|\n",
      "|  1626220| 113|      Royce O'Neale|1610612751| BKN|  4|29.5| 1.8| 7.3| 0.241| 1.0| 5.5|  0.182|0.5|0.5|   1.0| 1.0| 3.3| 4.3| 3.5|1.3|0.3|1.0| 5.0| 7.8|           8|         31|\n",
      "|   203925| 138|         Joe Harris|1610612751| BKN|  4|11.0| 0.5| 3.3| 0.154| 0.3| 3.0|  0.083|0.5|0.5|   1.0| 0.0| 1.3| 1.3| 0.0|0.5|0.0|0.8| 1.8| 0.0|           8|         31|\n",
      "|  1628369|   9|       Jayson Tatum|1610612738| BOS| 20|40.0| 9.3|20.2| 0.458| 2.7| 8.2|  0.323|6.0|6.9| 0.876| 1.3| 9.2|10.5| 5.3|1.1|1.1|2.8|27.2|30.4|           9|        169|\n",
      "|  1627759|  21|       Jaylen Brown|1610612738| BOS| 20|37.6| 9.1|18.3| 0.496| 2.0| 5.7|  0.354|2.6|3.7| 0.689| 1.3| 4.4| 5.6| 3.4|1.1|0.4|3.3|22.7|19.5|           9|        169|\n",
      "|   203935|  45|       Marcus Smart|1610612738| BOS| 20|34.0| 5.1|11.2| 0.453| 2.2| 6.1|  0.361|2.6|3.3|   0.8| 1.1| 3.0| 4.0| 5.1|1.3|0.3|2.3|14.9|16.5|           9|        169|\n",
      "+---------+----+-------------------+----------+----+---+----+----+----+------+----+----+-------+---+---+------+----+----+----+----+---+---+---+----+----+------------+-----------+\n",
      "only showing top 20 rows\n",
      "\n"
     ]
    }
   ],
   "source": [
    "from pyspark.sql import functions as F\n",
    "from pyspark.sql.window import Window\n",
    "\n",
    "#Genero 2 variables nuevas\n",
    "w = Window.partitionBy('TEAM')\n",
    "Tabla = Tabla.withColumn('TEAM_PLAYERS', F.count('TEAM').over(w))\n",
    "Tabla = Tabla.withColumn('SUM_GP_TEAM', F.sum('GP').over(w))\n",
    "#Tabla.show()"
   ]
  },
  {
   "cell_type": "code",
   "execution_count": 55,
   "id": "a1d87ca6-e97b-4cb7-9315-3c7a10b103b7",
   "metadata": {
    "tags": []
   },
   "outputs": [],
   "source": [
    "#Saco apostrofes de los nombres para que no genere conflicto\n",
    "from pyspark.sql.functions import regexp_replace,col\n",
    "\n",
    "Tabla = Tabla.withColumn('PLAYER', regexp_replace('PLAYER',\"'\",\"\"))\n",
    "#Tabla.show()"
   ]
  },
  {
   "cell_type": "code",
   "execution_count": 56,
   "id": "0f7e300a-afc0-42a3-815c-3fd8e35d4f0f",
   "metadata": {
    "tags": []
   },
   "outputs": [
    {
     "name": "stdout",
     "output_type": "stream",
     "text": [
      "+---------+----+-----------------+----------+----+---+----+----+---+---+------------+-----------+\n",
      "|PLAYER_ID|RANK|           PLAYER|   TEAM_ID|TEAM| GP| REB| AST|STL|BLK|TEAM_PLAYERS|SUM_GP_TEAM|\n",
      "+---------+----+-----------------+----------+----+---+----+----+---+---+------------+-----------+\n",
      "|  1626164|   1|     Devin Booker|1610612756| PHX| 11| 4.8| 7.2|1.7|0.8|           8|         79|\n",
      "|  1630162|   2|  Anthony Edwards|1610612750| MIN|  5| 5.0| 5.2|1.8|2.0|           9|         43|\n",
      "|   201939|   3|    Stephen Curry|1610612744| GSW| 13| 5.2| 6.1|1.0|0.5|          10|        124|\n",
      "|   203999|   4|     Nikola Jokic|1610612743| DEN| 20|13.5| 9.5|1.1|1.0|           8|        159|\n",
      "|  1629027|   5|       Trae Young|1610612737| ATL|  6| 3.7|10.2|1.7|0.7|           9|         53|\n",
      "|   201142|   6|     Kevin Durant|1610612756| PHX| 11| 8.7| 5.5|0.8|1.4|           8|         79|\n",
      "|  1628973|   7|    Jalen Brunson|1610612752| NYK| 11| 4.9| 5.6|1.5|0.1|          10|        101|\n",
      "|  1628368|   8|      DeAaron Fox|1610612758| SAC|  7| 5.4| 7.7|2.1|0.6|          10|         69|\n",
      "|  1628369|   9|     Jayson Tatum|1610612738| BOS| 20|10.5| 5.3|1.1|1.1|           9|        169|\n",
      "|   202710|  10|     Jimmy Butler|1610612748| MIA| 22| 6.5| 5.9|1.8|0.6|          10|        218|\n",
      "|  1627750|  11|     Jamal Murray|1610612743| DEN| 20| 5.7| 7.1|1.5|0.3|           8|        159|\n",
      "|  1629630|  12|        Ja Morant|1610612763| MEM|  5| 6.8| 7.0|1.8|0.2|          10|         57|\n",
      "|     2544|  13|     LeBron James|1610612747| LAL| 16| 9.9| 6.5|1.1|1.1|           9|        136|\n",
      "|   203114|  14|  Khris Middleton|1610612749| MIL|  5| 6.4| 6.2|0.6|0.0|           9|         42|\n",
      "|   203954|  15|      Joel Embiid|1610612755| PHI|  9| 9.8| 2.7|0.7|2.8|           9|         94|\n",
      "|   201566|  16|Russell Westbrook|1610612746| LAC|  5| 7.6| 7.4|1.2|1.4|           8|         40|\n",
      "|  1628969|  17|    Mikal Bridges|1610612751| BKN|  4| 5.3| 4.0|0.5|0.5|           8|         31|\n",
      "|  1630217|  17|     Desmond Bane|1610612763| MEM|  6| 6.0| 3.2|0.5|0.0|          10|         57|\n",
      "|  1628378|  19| Donovan Mitchell|1610612739| CLE|  5| 5.0| 7.2|2.0|0.6|           8|         39|\n",
      "+---------+----+-----------------+----------+----+---+----+----+---+---+------------+-----------+\n",
      "\n"
     ]
    }
   ],
   "source": [
    "#Selecciono columnas y los primeros 20 registros\n",
    "Tablaresumen = Tabla.select('PLAYER_ID', 'RANK','PLAYER', 'TEAM_ID', 'TEAM', 'GP', 'REB', 'AST', 'STL', 'BLK','TEAM_PLAYERS','SUM_GP_TEAM')\n",
    "Tablaresumen = Tablaresumen.sort(\"RANK\")\n",
    "Top20 = Tablaresumen[Tablaresumen[\"RANK\"]<20]\n",
    "Top20.show()"
   ]
  },
  {
   "cell_type": "code",
   "execution_count": 43,
   "id": "43710098-b9b1-4ed8-839c-fa338081be0a",
   "metadata": {
    "tags": []
   },
   "outputs": [],
   "source": [
    "env = os.environ"
   ]
  },
  {
   "cell_type": "code",
   "execution_count": 45,
   "id": "a06a8d36-f05b-4d1d-bf0c-7195939f9952",
   "metadata": {
    "tags": []
   },
   "outputs": [],
   "source": [
    "conn = psycopg2.connect(\n",
    "    host=env['AWS_REDSHIFT_HOST'],\n",
    "    port=env['AWS_REDSHIFT_PORT'],\n",
    "    dbname=env['AWS_REDSHIFT_DBNAME'],\n",
    "    user=env['AWS_REDSHIFT_USER'],\n",
    "    password=env['AWS_REDSHIFT_PASSWORD']\n",
    ")"
   ]
  },
  {
   "cell_type": "code",
   "execution_count": 46,
   "id": "343a80c4-ffa1-40bc-8433-7089556030f0",
   "metadata": {
    "tags": []
   },
   "outputs": [
    {
     "name": "stdout",
     "output_type": "stream",
     "text": [
      "Table created!\n"
     ]
    }
   ],
   "source": [
    "cursor = conn.cursor()\n",
    "cursor.execute(f\"\"\"\n",
    "create table if not exists {env['AWS_REDSHIFT_SCHEMA']}.NBAstat2 (\n",
    "    PLAYER_ID float distkey, \n",
    "    RANK float, PLAYER varchar,\n",
    "    TEAM_ID float ,\n",
    "    TEAM varchar,\n",
    "    GP float,\n",
    "    REB float,\n",
    "    AST float,\n",
    "    STL float,\n",
    "    BLK float,\n",
    "    TEAM_PLAYERS float,\n",
    "     SUM_GP_TEAM float\n",
    "    ) sortkey(TEAM);\n",
    "\"\"\")\n",
    "conn.commit()\n",
    "cursor.close()\n",
    "print(\"Table created!\")"
   ]
  },
  {
   "cell_type": "code",
   "execution_count": 47,
   "id": "adb81a49-041d-46fc-a91b-b1547ee39718",
   "metadata": {
    "tags": []
   },
   "outputs": [],
   "source": [
    "Top20.write \\\n",
    "    .format(\"jdbc\") \\\n",
    "    .option(\"url\", f\"jdbc:postgresql://{env['AWS_REDSHIFT_HOST']}:{env['AWS_REDSHIFT_PORT']}/{env['AWS_REDSHIFT_DBNAME']}\") \\\n",
    "    .option(\"dbtable\", f\"{env['AWS_REDSHIFT_SCHEMA']}.NBAstat2\") \\\n",
    "    .option(\"user\", env['AWS_REDSHIFT_USER']) \\\n",
    "    .option(\"password\", env['AWS_REDSHIFT_PASSWORD']) \\\n",
    "    .option(\"driver\", \"org.postgresql.Driver\") \\\n",
    "    .mode(\"overwrite\") \\\n",
    "    .save()"
   ]
  }
 ],
 "metadata": {
  "kernelspec": {
   "display_name": "Python 3 (ipykernel)",
   "language": "python",
   "name": "python3"
  },
  "language_info": {
   "codemirror_mode": {
    "name": "ipython",
    "version": 3
   },
   "file_extension": ".py",
   "mimetype": "text/x-python",
   "name": "python",
   "nbconvert_exporter": "python",
   "pygments_lexer": "ipython3",
   "version": "3.10.10"
  }
 },
 "nbformat": 4,
 "nbformat_minor": 5
}
